{
  "nbformat": 4,
  "nbformat_minor": 0,
  "metadata": {
    "colab": {
      "provenance": [],
      "authorship_tag": "ABX9TyPPu308Zl4Nl84OM8tptAWn",
      "include_colab_link": true
    },
    "kernelspec": {
      "name": "python3",
      "display_name": "Python 3"
    },
    "language_info": {
      "name": "python"
    }
  },
  "cells": [
    {
      "cell_type": "markdown",
      "metadata": {
        "id": "view-in-github",
        "colab_type": "text"
      },
      "source": [
        "<a href=\"https://colab.research.google.com/github/zzihyyun/aipython/blob/main/240104.ipynb\" target=\"_parent\"><img src=\"https://colab.research.google.com/assets/colab-badge.svg\" alt=\"Open In Colab\"/></a>"
      ]
    },
    {
      "cell_type": "code",
      "execution_count": null,
      "metadata": {
        "id": "xjIo8W6Pkwp1"
      },
      "outputs": [],
      "source": [
        "score=[]\n",
        "while True:\n",
        "  a=(input(\"점수를 입력하세요:\"))\n",
        "  if not a.isdigit():\n",
        "    break\n",
        "  else:\n",
        "   score.append(int(a))\n",
        "\n",
        "print(\"입력 데이터 출력:\", score)\n",
        "print(\"합계:\", sum(score))\n",
        "print(\"인원수:\", len(score))\n",
        "print(\"평균:\",sum(score)/len(score))"
      ]
    }
  ]
}